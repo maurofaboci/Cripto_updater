{
 "cells": [
  {
   "cell_type": "code",
   "execution_count": 1,
   "id": "e6936a84-e46d-464c-a1d1-cf753f798fd2",
   "metadata": {},
   "outputs": [],
   "source": [
    "#Imports \n",
    "\n",
    "from selenium import webdriver\n",
    "from selenium.webdriver.common.by import By\n",
    "from selenium.webdriver.support.ui import WebDriverWait\n",
    "from selenium.webdriver.support import expected_conditions as EC\n",
    "from selenium.webdriver.common.keys import Keys\n"
   ]
  },
  {
   "cell_type": "code",
   "execution_count": 2,
   "id": "178e8b3d-5e43-41c2-a5d6-4cc17766d2e1",
   "metadata": {},
   "outputs": [
    {
     "name": "stdout",
     "output_type": "stream",
     "text": [
      "0.000913390\n"
     ]
    }
   ],
   "source": [
    "\n",
    "# Navegando nas paginas para pegar a cotação atual das moedas (Navegação MILK)\n",
    "\n",
    "navegador = webdriver.Chrome()\n",
    "navegador.get(\"https://poocoin.app/tokens/0xbf37f781473f3b50e82c668352984865eac9853f\")\n",
    "cotacao_milk = WebDriverWait(navegador, 10).until(\n",
    "        EC.presence_of_element_located((By.XPATH, '//*[@id=\"root\"]/div/div[1]/div[2]/div/div[2]/div[1]/div[1]/div/div[1]/div/span'))).text\n",
    "navegador.quit()\n",
    "\n",
    "print(cotacao_milk.replace(\"$\", ''))"
   ]
  },
  {
   "cell_type": "code",
   "execution_count": 3,
   "id": "650e903f-e7e8-4341-a67f-08e094238d38",
   "metadata": {},
   "outputs": [
    {
     "name": "stdout",
     "output_type": "stream",
     "text": [
      "0.0658857\n"
     ]
    }
   ],
   "source": [
    "# Navegando nas paginas para pegar a cotação atual das moedas (Navegação THC)\n",
    "\n",
    "navegador = webdriver.Chrome()\n",
    "navegador.get(\"https://poocoin.app/tokens/0x24802247bd157d771b7effa205237d8e9269ba8a\")\n",
    "cotacao_thc = WebDriverWait(navegador, 10).until(\n",
    "        EC.presence_of_element_located((By.XPATH, '//*[@id=\"root\"]/div/div[1]/div[2]/div/div[2]/div[1]/div[1]/div/div[1]/div/span'))).text\n",
    "navegador.quit()\n",
    "\n",
    "print(cotacao_thc.replace(\"$\", ''))"
   ]
  },
  {
   "cell_type": "code",
   "execution_count": 4,
   "id": "4cfccb7f-101b-4615-a03d-d04cc8bdd6e8",
   "metadata": {},
   "outputs": [
    {
     "name": "stdout",
     "output_type": "stream",
     "text": [
      "4.0520\n"
     ]
    }
   ],
   "source": [
    "# Navegando nas paginas para pegar a cotação atual das moedas (Navegação THG)\n",
    "\n",
    "navegador = webdriver.Chrome()\n",
    "navegador.get(\"https://poocoin.app/tokens/0x9fd87aefe02441b123c3c32466cd9db4c578618f\")\n",
    "cotacao_thg = WebDriverWait(navegador, 10).until(\n",
    "        EC.presence_of_element_located((By.XPATH, '//*[@id=\"root\"]/div/div[1]/div[2]/div/div[2]/div[1]/div[1]/div/div[1]/div/span'))).text\n",
    "navegador.quit()\n",
    "\n",
    "print(cotacao_thg.replace(\"$\", ''))"
   ]
  },
  {
   "cell_type": "code",
   "execution_count": 5,
   "id": "d21df989-8df0-4600-8df0-7dba14031053",
   "metadata": {},
   "outputs": [
    {
     "name": "stdout",
     "output_type": "stream",
     "text": [
      "0.0494721\n"
     ]
    }
   ],
   "source": [
    "# Navegando nas paginas para pegar a cotação atual das moedas (Navegação MAFA)\n",
    "\n",
    "navegador = webdriver.Chrome()\n",
    "navegador.get(\"https://poocoin.app/tokens/0xaf44400a99a9693bf3c2e89b02652babacc5cdb9\")\n",
    "cotacao_mafa = WebDriverWait(navegador, 10).until(\n",
    "        EC.presence_of_element_located((By.XPATH, '//*[@id=\"root\"]/div/div[1]/div[2]/div/div[2]/div[1]/div[1]/div/div[1]/div/span'))).text\n",
    "navegador.quit()\n",
    "\n",
    "print(cotacao_mafa.replace(\"$\", ''))"
   ]
  },
  {
   "cell_type": "code",
   "execution_count": 6,
   "id": "b70e323e-b455-46dd-889d-8718d40b50ae",
   "metadata": {},
   "outputs": [
    {
     "name": "stdout",
     "output_type": "stream",
     "text": [
      "0,7766\n"
     ]
    }
   ],
   "source": [
    "# Navegando nas paginas para pegar a cotação atual das moedas (Navegação DRACO)\n",
    "\n",
    "navegador = webdriver.Chrome()\n",
    "navegador.get(\"https://www.mir4draco.com/price\")\n",
    "cotacao_draco = WebDriverWait(navegador, 30).until(\n",
    "        EC.presence_of_element_located((By.XPATH, '//*[@id=\"app\"]/div/div/main/div/section[2]/div[1]/div/div[1]/div/div[4]/div/div/dl/dd/span[1]'))).text\n",
    "navegador.quit()\n",
    "\n",
    "print(cotacao_draco.replace(\"$\", ''))"
   ]
  },
  {
   "cell_type": "code",
   "execution_count": 7,
   "id": "27cb4752-28da-463c-ae0b-bee1911c9f0f",
   "metadata": {},
   "outputs": [
    {
     "name": "stdout",
     "output_type": "stream",
     "text": [
      "['$0.000912650', '$0.0658857', '$4.0520', '$0.0494721', '$0,7766']\n",
      "['$0.000912650', '$0.0658857', '$4.0520', '$0.0494721', '$0.7766']\n",
      "['0.000912650', '0.0658857', '4.0520', '0.0494721', '0.7766']\n"
     ]
    }
   ],
   "source": [
    "#Tratando as moedas para poder converter a FLOAT na tabela (tive dificuldade de mudar dois valores em um só for)\n",
    "\n",
    "moedasdlr = [cotacao_milk, cotacao_thc, cotacao_thg, cotacao_mafa, cotacao_draco]\n",
    "print(moedasdlr)\n",
    "moedas = []\n",
    "for num in moedasdlr: \n",
    "    moedasnew = num.replace(\",\",\".\")\n",
    "    moedas.append(moedasnew)\n",
    "print(moedas)\n",
    "\n",
    "moedasok = []\n",
    "for num in moedas: \n",
    "    moedasnew = num.replace(\"$\",\"\")\n",
    "    moedasok.append(moedasnew)\n",
    "print(moedasok)\n"
   ]
  },
  {
   "cell_type": "code",
   "execution_count": 8,
   "id": "389cdf8e-5383-454a-ac81-9609e9cd1b6a",
   "metadata": {},
   "outputs": [
    {
     "data": {
      "text/html": [
       "<div>\n",
       "<style scoped>\n",
       "    .dataframe tbody tr th:only-of-type {\n",
       "        vertical-align: middle;\n",
       "    }\n",
       "\n",
       "    .dataframe tbody tr th {\n",
       "        vertical-align: top;\n",
       "    }\n",
       "\n",
       "    .dataframe thead th {\n",
       "        text-align: right;\n",
       "    }\n",
       "</style>\n",
       "<table border=\"1\" class=\"dataframe\">\n",
       "  <thead>\n",
       "    <tr style=\"text-align: right;\">\n",
       "      <th></th>\n",
       "      <th>Jogo</th>\n",
       "      <th>Moeda</th>\n",
       "      <th>Data entrada</th>\n",
       "      <th>Data Saida</th>\n",
       "      <th>Tempo investindo</th>\n",
       "      <th>Qt_Moedas</th>\n",
       "      <th>cotacao compra</th>\n",
       "      <th>cotacao atual</th>\n",
       "      <th>Vl_investido</th>\n",
       "      <th>Vl_recebido</th>\n",
       "    </tr>\n",
       "  </thead>\n",
       "  <tbody>\n",
       "    <tr>\n",
       "      <th>0</th>\n",
       "      <td>Mir4</td>\n",
       "      <td>DRACO</td>\n",
       "      <td>2021-11-01</td>\n",
       "      <td>2022-01-17</td>\n",
       "      <td>77</td>\n",
       "      <td>214.00</td>\n",
       "      <td>0.56</td>\n",
       "      <td>0.775400</td>\n",
       "      <td>119.8400</td>\n",
       "      <td>165.935600</td>\n",
       "    </tr>\n",
       "    <tr>\n",
       "      <th>1</th>\n",
       "      <td>Thetan arena</td>\n",
       "      <td>THG</td>\n",
       "      <td>2021-12-29</td>\n",
       "      <td>2022-01-17</td>\n",
       "      <td>19</td>\n",
       "      <td>1078.37</td>\n",
       "      <td>5.04</td>\n",
       "      <td>4.051100</td>\n",
       "      <td>5434.9848</td>\n",
       "      <td>4368.584707</td>\n",
       "    </tr>\n",
       "    <tr>\n",
       "      <th>2</th>\n",
       "      <td>Thetan arena</td>\n",
       "      <td>THC</td>\n",
       "      <td>2021-12-09</td>\n",
       "      <td>2022-01-17</td>\n",
       "      <td>39</td>\n",
       "      <td>8322.16</td>\n",
       "      <td>0.13</td>\n",
       "      <td>0.065837</td>\n",
       "      <td>1081.8808</td>\n",
       "      <td>547.907712</td>\n",
       "    </tr>\n",
       "    <tr>\n",
       "      <th>3</th>\n",
       "      <td>Mafagafu</td>\n",
       "      <td>MAFA</td>\n",
       "      <td>2021-11-26</td>\n",
       "      <td>2022-01-17</td>\n",
       "      <td>52</td>\n",
       "      <td>795.81</td>\n",
       "      <td>0.09</td>\n",
       "      <td>0.049517</td>\n",
       "      <td>71.6229</td>\n",
       "      <td>39.406442</td>\n",
       "    </tr>\n",
       "    <tr>\n",
       "      <th>4</th>\n",
       "      <td>Criptoyou</td>\n",
       "      <td>MILK</td>\n",
       "      <td>2021-11-01</td>\n",
       "      <td>2022-01-17</td>\n",
       "      <td>77</td>\n",
       "      <td>1369.97</td>\n",
       "      <td>0.01</td>\n",
       "      <td>0.000913</td>\n",
       "      <td>13.6997</td>\n",
       "      <td>1.250540</td>\n",
       "    </tr>\n",
       "  </tbody>\n",
       "</table>\n",
       "</div>"
      ],
      "text/plain": [
       "           Jogo  Moeda Data entrada Data Saida  Tempo investindo   Qt_Moedas  \\\n",
       "0          Mir4  DRACO   2021-11-01 2022-01-17                 77     214.00   \n",
       "1  Thetan arena    THG   2021-12-29 2022-01-17                 19    1078.37   \n",
       "2  Thetan arena    THC   2021-12-09 2022-01-17                 39    8322.16   \n",
       "3      Mafagafu   MAFA   2021-11-26 2022-01-17                 52     795.81   \n",
       "4     Criptoyou   MILK   2021-11-01 2022-01-17                 77    1369.97   \n",
       "\n",
       "   cotacao compra  cotacao atual  Vl_investido  Vl_recebido  \n",
       "0            0.56       0.775400      119.8400   165.935600  \n",
       "1            5.04       4.051100     5434.9848  4368.584707  \n",
       "2            0.13       0.065837     1081.8808   547.907712  \n",
       "3            0.09       0.049517       71.6229    39.406442  \n",
       "4            0.01       0.000913       13.6997     1.250540  "
      ]
     },
     "metadata": {},
     "output_type": "display_data"
    }
   ],
   "source": [
    "#importando a tabela \n",
    "import pandas as pd\n",
    "\n",
    "tabela = pd.read_excel(\"tabela.xlsx\")\n",
    "\n",
    "display(tabela)"
   ]
  },
  {
   "cell_type": "code",
   "execution_count": 9,
   "id": "4e486be4-e29b-4bd3-a57f-4b4d443dbe9f",
   "metadata": {},
   "outputs": [],
   "source": [
    "#atualizando a tabela com as cotações atuais\n",
    "\n",
    "tabela.loc[tabela['Moeda'] == 'DRACO','cotacao atual'] = float(moedasok[4])\n",
    "tabela.loc[tabela['Moeda'] == 'THG','cotacao atual'] = float(moedasok[2])\n",
    "tabela.loc[tabela['Moeda'] == 'THC','cotacao atual'] = float(moedasok[1])\n",
    "tabela.loc[tabela['Moeda'] == 'MAFA','cotacao atual'] = float(moedasok[3])\n",
    "tabela.loc[tabela['Moeda'] == 'MILK','cotacao atual'] = float(moedasok[0])"
   ]
  },
  {
   "cell_type": "code",
   "execution_count": 10,
   "id": "60ba7f5d-4be3-4ad6-aeee-7f1ac965c988",
   "metadata": {},
   "outputs": [
    {
     "data": {
      "text/html": [
       "<div>\n",
       "<style scoped>\n",
       "    .dataframe tbody tr th:only-of-type {\n",
       "        vertical-align: middle;\n",
       "    }\n",
       "\n",
       "    .dataframe tbody tr th {\n",
       "        vertical-align: top;\n",
       "    }\n",
       "\n",
       "    .dataframe thead th {\n",
       "        text-align: right;\n",
       "    }\n",
       "</style>\n",
       "<table border=\"1\" class=\"dataframe\">\n",
       "  <thead>\n",
       "    <tr style=\"text-align: right;\">\n",
       "      <th></th>\n",
       "      <th>Jogo</th>\n",
       "      <th>Moeda</th>\n",
       "      <th>Data entrada</th>\n",
       "      <th>Data Saida</th>\n",
       "      <th>Tempo investindo</th>\n",
       "      <th>Qt_Moedas</th>\n",
       "      <th>cotacao compra</th>\n",
       "      <th>cotacao atual</th>\n",
       "      <th>Vl_investido</th>\n",
       "      <th>Vl_recebido</th>\n",
       "    </tr>\n",
       "  </thead>\n",
       "  <tbody>\n",
       "    <tr>\n",
       "      <th>0</th>\n",
       "      <td>Mir4</td>\n",
       "      <td>DRACO</td>\n",
       "      <td>2021-11-01</td>\n",
       "      <td>2022-01-17</td>\n",
       "      <td>77</td>\n",
       "      <td>214.00</td>\n",
       "      <td>0.56</td>\n",
       "      <td>0.776600</td>\n",
       "      <td>119.8400</td>\n",
       "      <td>166.192400</td>\n",
       "    </tr>\n",
       "    <tr>\n",
       "      <th>1</th>\n",
       "      <td>Thetan arena</td>\n",
       "      <td>THG</td>\n",
       "      <td>2021-12-29</td>\n",
       "      <td>2022-01-17</td>\n",
       "      <td>19</td>\n",
       "      <td>1078.37</td>\n",
       "      <td>5.04</td>\n",
       "      <td>4.052000</td>\n",
       "      <td>5434.9848</td>\n",
       "      <td>4369.555240</td>\n",
       "    </tr>\n",
       "    <tr>\n",
       "      <th>2</th>\n",
       "      <td>Thetan arena</td>\n",
       "      <td>THC</td>\n",
       "      <td>2021-12-09</td>\n",
       "      <td>2022-01-17</td>\n",
       "      <td>39</td>\n",
       "      <td>8322.16</td>\n",
       "      <td>0.13</td>\n",
       "      <td>0.065886</td>\n",
       "      <td>1081.8808</td>\n",
       "      <td>548.311337</td>\n",
       "    </tr>\n",
       "    <tr>\n",
       "      <th>3</th>\n",
       "      <td>Mafagafu</td>\n",
       "      <td>MAFA</td>\n",
       "      <td>2021-11-26</td>\n",
       "      <td>2022-01-17</td>\n",
       "      <td>52</td>\n",
       "      <td>795.81</td>\n",
       "      <td>0.09</td>\n",
       "      <td>0.049472</td>\n",
       "      <td>71.6229</td>\n",
       "      <td>39.370392</td>\n",
       "    </tr>\n",
       "    <tr>\n",
       "      <th>4</th>\n",
       "      <td>Criptoyou</td>\n",
       "      <td>MILK</td>\n",
       "      <td>2021-11-01</td>\n",
       "      <td>2022-01-17</td>\n",
       "      <td>77</td>\n",
       "      <td>1369.97</td>\n",
       "      <td>0.01</td>\n",
       "      <td>0.000913</td>\n",
       "      <td>13.6997</td>\n",
       "      <td>1.250303</td>\n",
       "    </tr>\n",
       "  </tbody>\n",
       "</table>\n",
       "</div>"
      ],
      "text/plain": [
       "           Jogo  Moeda Data entrada Data Saida  Tempo investindo   Qt_Moedas  \\\n",
       "0          Mir4  DRACO   2021-11-01 2022-01-17                 77     214.00   \n",
       "1  Thetan arena    THG   2021-12-29 2022-01-17                 19    1078.37   \n",
       "2  Thetan arena    THC   2021-12-09 2022-01-17                 39    8322.16   \n",
       "3      Mafagafu   MAFA   2021-11-26 2022-01-17                 52     795.81   \n",
       "4     Criptoyou   MILK   2021-11-01 2022-01-17                 77    1369.97   \n",
       "\n",
       "   cotacao compra  cotacao atual  Vl_investido  Vl_recebido  \n",
       "0            0.56       0.776600      119.8400   166.192400  \n",
       "1            5.04       4.052000     5434.9848  4369.555240  \n",
       "2            0.13       0.065886     1081.8808   548.311337  \n",
       "3            0.09       0.049472       71.6229    39.370392  \n",
       "4            0.01       0.000913       13.6997     1.250303  "
      ]
     },
     "metadata": {},
     "output_type": "display_data"
    }
   ],
   "source": [
    "#atualizando os valores totais \n",
    "\n",
    "tabela[\"Vl_recebido\"] = tabela[\"Qt_Moedas\"] * tabela[\"cotacao atual\"]\n",
    "\n",
    "\n",
    "display(tabela)"
   ]
  },
  {
   "cell_type": "code",
   "execution_count": 11,
   "id": "54e7cc4c-8810-4e2c-9add-4ceb2a8204af",
   "metadata": {},
   "outputs": [],
   "source": [
    "#salvando a tabela na pasta\n",
    "tabela.to_excel(\"tabela.xlsx\", index=False)"
   ]
  }
 ],
 "metadata": {
  "kernelspec": {
   "display_name": "Python 3 (ipykernel)",
   "language": "python",
   "name": "python3"
  },
  "language_info": {
   "codemirror_mode": {
    "name": "ipython",
    "version": 3
   },
   "file_extension": ".py",
   "mimetype": "text/x-python",
   "name": "python",
   "nbconvert_exporter": "python",
   "pygments_lexer": "ipython3",
   "version": "3.9.7"
  }
 },
 "nbformat": 4,
 "nbformat_minor": 5
}
